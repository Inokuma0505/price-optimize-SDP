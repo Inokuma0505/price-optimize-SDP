{
 "cells": [
  {
   "cell_type": "code",
   "execution_count": 22,
   "id": "dd717c49",
   "metadata": {},
   "outputs": [],
   "source": [
    "import gurobipy as gp\n",
    "from gurobipy import GRB\n",
    "import numpy as np\n",
    "\n",
    "def solve_sdp_with_gurobi(M_g1, M_g2, M_I):\n",
    "    num_rows = M_g1.shape[0]\n",
    "    m = gp.Model(\"sdp_with_gurobi\")\n",
    "\n",
    "    mu_1 = m.addVar(lb=0.0, name=\"mu_1\")\n",
    "    mu_2 = m.addVar(lb=-GRB.INFINITY, name=\"mu_2\")\n",
    "\n",
    "    # 行列変数\n",
    "    lmi_matrix = m.addMVar((num_rows, num_rows),\n",
    "                           name=\"LMI_matrix\",\n",
    "                           vtype=GRB.CONTINUOUS)\n",
    "\n",
    "    # (1) 等式制約\n",
    "    m.addConstr(lmi_matrix == M_g2 + mu_1 * M_g1 - mu_2 * M_I)\n",
    "\n",
    "    # (2) PSD 制約 （半正定値制約）\n",
    "    m.addConstr(lmi_matrix, GRB.SDP, name=\"sdp_constr\")\n",
    "\n",
    "    # 目的\n",
    "    m.setObjective(mu_2, GRB.MAXIMIZE)\n",
    "    m.optimize()\n",
    "\n",
    "    if m.Status == GRB.OPTIMAL:\n",
    "        print(f\"Optimal mu_1: {mu_1.X:.4f}\")\n",
    "        max_revenue = -mu_2.X\n",
    "        print(f\"Maximum Revenue (from mu_2): {max_revenue:.4f}\")\n",
    "        return mu_1.X, mu_2.X, m.Runtime\n",
    "    else:\n",
    "        print(\"Optimization was not successful.\")\n",
    "        return None, None\n"
   ]
  },
  {
   "cell_type": "code",
   "execution_count": 23,
   "id": "dba19d5b",
   "metadata": {},
   "outputs": [],
   "source": [
    "import mosek"
   ]
  },
  {
   "cell_type": "code",
   "execution_count": 24,
   "id": "dbac99de",
   "metadata": {},
   "outputs": [],
   "source": [
    "import numpy as np\n",
    "from numpy.typing import NDArray\n",
    "from typing import Tuple\n",
    "\n",
    "def create_sdp_matrices(\n",
    "    intercepts: NDArray,\n",
    "    coefficients: NDArray,\n",
    "    p_bar: NDArray,\n",
    "    epsilon: float,\n",
    ") -> Tuple[NDArray, NDArray]:\n",
    "    \"\"\"\n",
    "    価格最適化のSDP定式化に必要な行列 M(g1) と M(g2) を作成します。\n",
    "\n",
    "    Args:\n",
    "        intercepts (NDArray): 需要予測モデルの切片 (θ₀)\n",
    "        coefficients (NDArray): 需要予測モデルの係数 (Θ₀)\n",
    "        p_bar (NDArray): 平均価格ベクトル (p̄)\n",
    "        epsilon (float): 許容される誤差 (ε)\n",
    "\n",
    "    Returns:\n",
    "        Tuple[NDArray, NDArray]: (M(g1), M(g2))\n",
    "    \"\"\"\n",
    "    num_products = len(intercepts)\n",
    "    matrix_size = num_products + 1\n",
    "\n",
    "    # ---- 制約関数 g₁(p) の行列表現 M(g1) ----\n",
    "    # g₁(p) = pᵀp - 2p̄ᵀp + (p̄ᵀp̄ - ε)\n",
    "    m_g1 = np.zeros((matrix_size, matrix_size))\n",
    "    m_g1[0, 0] = p_bar @ p_bar - epsilon  # 定数項 c\n",
    "    m_g1[0, 1:] = -p_bar.T               # 線形項 b/2\n",
    "    m_g1[1:, 0] = -p_bar                 # 線形項 b/2\n",
    "    m_g1[1:, 1:] = np.identity(num_products) # 二次項 A\n",
    "\n",
    "    # ---- 目的関数 g₂(p) の行列表現 M(g2) ----\n",
    "    # g₂(p) = -pᵀΘ₀p - θ₀ᵀp\n",
    "    m_g2 = np.zeros((matrix_size, matrix_size))\n",
    "    # 定数項 c は 0\n",
    "    m_g2[0, 1:] = -0.5 * intercepts      # 線形項 b/2\n",
    "    m_g2[1:, 0] = -0.5 * intercepts      # 線形項 b/2\n",
    "    m_g2[1:, 1:] = -coefficients         # 二次項 A\n",
    "\n",
    "    return m_g1, m_g2"
   ]
  },
  {
   "cell_type": "code",
   "execution_count": 8,
   "id": "bacca54f",
   "metadata": {},
   "outputs": [],
   "source": [
    "import gurobipy as gp\n",
    "from gurobipy import GRB\n",
    "import numpy as np\n",
    "\n",
    "from src.create_data.create_data import create_data\n",
    "from src.linear_regression.build_model import build_model\n",
    "from src.ex_price_optimize.ex_optimize_price import optimize_price\n",
    "from src.new_price_optimize.new_optimize_price import optimize_price_new,optimize_price_new_mosek\n",
    "from src.new_price_optimize.new_optimize_price_bdf import optimize_price_new_bdf\n",
    "from src.new_price_optimize.new_optimize_price_sdp import optimize_price_sdp_mosek\n",
    "from src.evalut_price.evalut_optimal_prices import calculate_true_revenue"
   ]
  },
  {
   "cell_type": "code",
   "execution_count": 9,
   "id": "c274022f",
   "metadata": {},
   "outputs": [],
   "source": [
    "alpha, beta, X, Y = create_data(M=20, N=500, r_mean=0.8, r_std=0.1)\n",
    "intercept, coefficients = build_model(X, Y)\n",
    "\n",
    "p_bar = np.full(20, 0.8)  # 平均価格ベクトルp̄をr_meanで初期化\n",
    "epsilon = 0.09 * np.linalg.norm(coefficients)  # 許容誤差ε"
   ]
  },
  {
   "cell_type": "code",
   "execution_count": 10,
   "id": "2d6fbae3",
   "metadata": {},
   "outputs": [
    {
     "name": "stdout",
     "output_type": "stream",
     "text": [
      "--- SDP Dual Formulation with Price Recovery (MOSEK) ---\n",
      "Optimal Prices: [1.255  1.1617 1.252  1.1534 1.0132 1.2184 1.085  1.1301 0.9682 0.9505\n",
      " 1.0194 0.7664 0.5824 1.1343 1.437  1.0511 1.0118 0.9247 1.0676 1.0696]\n",
      "Maximum Revenue: 376.4111\n",
      "Solve Time: 0.001983 seconds\n"
     ]
    }
   ],
   "source": [
    "# sdpの解法を呼び出す\n",
    "new_prices_sdp, new_max_revenue_sdp, new_solve_time = optimize_price_sdp_mosek(\n",
    "    intercept,\n",
    "    coefficients,\n",
    "    p_bar=p_bar,\n",
    "    epsilon=epsilon\n",
    ")"
   ]
  },
  {
   "cell_type": "code",
   "execution_count": 11,
   "id": "f2a34dee",
   "metadata": {},
   "outputs": [],
   "source": [
    "new_prices_mosek, new_max_revenue_mosek, new_solve_time_mosek = optimize_price_new_mosek(\n",
    "    intercept,\n",
    "    coefficients,\n",
    "    p_bar=p_bar,\n",
    "    epsilon=epsilon\n",
    ")"
   ]
  },
  {
   "cell_type": "code",
   "execution_count": 12,
   "id": "ccdf51eb",
   "metadata": {},
   "outputs": [
    {
     "name": "stdout",
     "output_type": "stream",
     "text": [
      "SDP解法の結果:\n",
      "新しい価格: [1.25497414 1.16167285 1.25200444 1.15343344 1.0131568  1.21839668\n",
      " 1.08498248 1.13010105 0.96822979 0.95046606 1.01937099 0.76637565\n",
      " 0.58235943 1.13430425 1.43699356 1.05107215 1.01180067 0.92470617\n",
      " 1.06755706 1.06963047]\n",
      "最大収益: 376.41108360989523\n",
      "解法時間: 0.0020秒\n",
      "Mosek解法の結果:\n",
      "新しい価格: [1.29573799 1.08342926 1.34818875 1.09696268 1.03860427 1.1393268\n",
      " 1.20511486 1.08029242 0.98256305 0.95553693 0.98571116 0.78807635\n",
      " 0.75074206 1.1959692  1.30317007 1.00422383 1.06298292 0.85538627\n",
      " 1.07935017 1.09135862]\n",
      "最大収益: 376.4110836362738\n",
      "解法時間: 0.0012秒\n"
     ]
    }
   ],
   "source": [
    "print(\"SDP解法の結果:\"\n",
    "      f\"\\n新しい価格: {new_prices_sdp}\\n\"\n",
    "      f\"最大収益: {new_max_revenue_sdp}\\n\"\n",
    "      f\"解法時間: {new_solve_time:.4f}秒\"\n",
    "      )\n",
    "print(\"Mosek解法の結果:\"\n",
    "      f\"\\n新しい価格: {new_prices_mosek}\\n\"\n",
    "      f\"最大収益: {new_max_revenue_mosek}\\n\"\n",
    "      f\"解法時間: {new_solve_time_mosek:.4f}秒\"\n",
    "      )"
   ]
  },
  {
   "cell_type": "code",
   "execution_count": 13,
   "id": "6b237750",
   "metadata": {},
   "outputs": [
    {
     "name": "stdout",
     "output_type": "stream",
     "text": [
      "(1232.9960578340324, array([72.4828973 , 74.75267428, 50.70825188, 90.56129801, 85.58250985,\n",
      "       75.843731  , 47.19776853, 35.52686049, 33.72228146, 34.29541169,\n",
      "       41.53067736, 35.78024452, 37.0024603 , 61.89068018, 68.94141528,\n",
      "       69.29318119, 84.14287451, 37.38437547, 57.1374947 , 37.0800483 ]))\n"
     ]
    }
   ],
   "source": [
    "print(calculate_true_revenue(\n",
    "    optimal_prices=new_prices_mosek,\n",
    "    alpha_true=alpha,\n",
    "    beta_true=beta\n",
    "))"
   ]
  },
  {
   "cell_type": "code",
   "execution_count": 14,
   "id": "af6f1a85",
   "metadata": {},
   "outputs": [
    {
     "name": "stdout",
     "output_type": "stream",
     "text": [
      "(1242.2057812085177, array([71.27625765, 79.1325276 , 47.08583405, 93.75357833, 84.77209315,\n",
      "       80.40993682, 42.10751604, 37.82724435, 33.61969422, 34.405388  ,\n",
      "       43.68659575, 34.70538369, 27.87548104, 59.28476854, 74.83704133,\n",
      "       72.14749372, 80.9642309 , 40.80480606, 56.13241129, 36.11880557]))\n"
     ]
    }
   ],
   "source": [
    "print(calculate_true_revenue(\n",
    "    optimal_prices=new_prices_sdp,\n",
    "    alpha_true=alpha,\n",
    "    beta_true=beta\n",
    "))"
   ]
  },
  {
   "cell_type": "code",
   "execution_count": 15,
   "id": "1d52956c",
   "metadata": {},
   "outputs": [
    {
     "name": "stdout",
     "output_type": "stream",
     "text": [
      "0.016515016555786133\n"
     ]
    }
   ],
   "source": [
    "print(new_solve_time)"
   ]
  },
  {
   "cell_type": "code",
   "execution_count": 16,
   "id": "6e8234fc",
   "metadata": {},
   "outputs": [
    {
     "name": "stdout",
     "output_type": "stream",
     "text": [
      "Set parameter Username\n",
      "Set parameter LicenseID to value 2659505\n",
      "Academic license - for non-commercial use only - expires 2026-04-30\n"
     ]
    },
    {
     "ename": "AttributeError",
     "evalue": "type object 'GRB' has no attribute 'SDP'",
     "output_type": "error",
     "traceback": [
      "\u001b[0;31m---------------------------------------------------------------------------\u001b[0m",
      "\u001b[0;31mAttributeError\u001b[0m                            Traceback (most recent call last)",
      "Cell \u001b[0;32mIn[16], line 2\u001b[0m\n\u001b[1;32m      1\u001b[0m M_g1, M_g2 \u001b[38;5;241m=\u001b[39m create_sdp_matrices(intercept, coefficients, p_bar, epsilon)\n\u001b[0;32m----> 2\u001b[0m mu_1, mu_2 , solve_time \u001b[38;5;241m=\u001b[39m \u001b[43msolve_sdp_with_gurobi\u001b[49m\u001b[43m(\u001b[49m\u001b[43mM_g1\u001b[49m\u001b[43m,\u001b[49m\u001b[43m \u001b[49m\u001b[43mM_g2\u001b[49m\u001b[43m,\u001b[49m\u001b[43m \u001b[49m\u001b[43mnp\u001b[49m\u001b[38;5;241;43m.\u001b[39;49m\u001b[43meye\u001b[49m\u001b[43m(\u001b[49m\u001b[38;5;28;43mlen\u001b[39;49m\u001b[43m(\u001b[49m\u001b[43mp_bar\u001b[49m\u001b[43m)\u001b[49m\u001b[43m \u001b[49m\u001b[38;5;241;43m+\u001b[39;49m\u001b[43m \u001b[49m\u001b[38;5;241;43m1\u001b[39;49m\u001b[43m)\u001b[49m\u001b[43m)\u001b[49m\n",
      "Cell \u001b[0;32mIn[7], line 21\u001b[0m, in \u001b[0;36msolve_sdp_with_gurobi\u001b[0;34m(M_g1, M_g2, M_I)\u001b[0m\n\u001b[1;32m     18\u001b[0m m\u001b[38;5;241m.\u001b[39maddConstr(lmi_matrix \u001b[38;5;241m==\u001b[39m M_g2 \u001b[38;5;241m+\u001b[39m mu_1 \u001b[38;5;241m*\u001b[39m M_g1 \u001b[38;5;241m-\u001b[39m mu_2 \u001b[38;5;241m*\u001b[39m M_I)\n\u001b[1;32m     20\u001b[0m \u001b[38;5;66;03m# (2) PSD 制約 （半正定値制約）\u001b[39;00m\n\u001b[0;32m---> 21\u001b[0m m\u001b[38;5;241m.\u001b[39maddConstr(lmi_matrix, \u001b[43mGRB\u001b[49m\u001b[38;5;241;43m.\u001b[39;49m\u001b[43mSDP\u001b[49m, name\u001b[38;5;241m=\u001b[39m\u001b[38;5;124m\"\u001b[39m\u001b[38;5;124msdp_constr\u001b[39m\u001b[38;5;124m\"\u001b[39m)\n\u001b[1;32m     23\u001b[0m \u001b[38;5;66;03m# 目的\u001b[39;00m\n\u001b[1;32m     24\u001b[0m m\u001b[38;5;241m.\u001b[39msetObjective(mu_2, GRB\u001b[38;5;241m.\u001b[39mMAXIMIZE)\n",
      "\u001b[0;31mAttributeError\u001b[0m: type object 'GRB' has no attribute 'SDP'"
     ]
    }
   ],
   "source": [
    "M_g1, M_g2 = create_sdp_matrices(intercept, coefficients, p_bar, epsilon)\n",
    "mu_1, mu_2 , solve_time = solve_sdp_with_gurobi(M_g1, M_g2, np.eye(len(p_bar) + 1))"
   ]
  },
  {
   "cell_type": "code",
   "execution_count": null,
   "id": "6d1958df",
   "metadata": {},
   "outputs": [
    {
     "data": {
      "text/plain": [
       "(12, 0, 2)"
      ]
     },
     "execution_count": 45,
     "metadata": {},
     "output_type": "execute_result"
    }
   ],
   "source": [
    "gp.gurobi.version()\n"
   ]
  },
  {
   "cell_type": "code",
   "execution_count": 53,
   "id": "88904641",
   "metadata": {},
   "outputs": [],
   "source": [
    "import cvxpy as cp\n",
    "import numpy as np\n",
    "\n",
    "def solve_sdp_via_cvxpy(M_g1, M_g2, M_I):\n",
    "    n = M_g1.shape[0]\n",
    "\n",
    "    # 変数定義\n",
    "    X   = cp.Variable((n, n), PSD=True)   # PSD=True で半正定値制約\n",
    "    mu1 = cp.Variable(nonneg=True)\n",
    "    mu2 = cp.Variable()\n",
    "\n",
    "    # 制約\n",
    "    cons = [\n",
    "        X == M_g2 + mu1 * M_g1 - mu2 * M_I\n",
    "    ]\n",
    "\n",
    "    # 目的はmu2を最大化（元問題では -mu2 の最小化と同義）\n",
    "    prob = cp.Problem(cp.Maximize(mu2), cons)\n",
    "\n",
    "    # Gurobi を内部 SDP ソルバーとして指定\n",
    "    prob.solve(solver=cp.GUROBI, verbose=True)\n",
    "\n",
    "    if prob.status == cp.OPTIMAL:\n",
    "        print(f\"Optimal mu1 = {mu1.value:.4f}\")\n",
    "        print(f\"Max revenue = {-mu2.value:.4f}\")\n",
    "        return mu1.value, mu2.value, prob.solver_stats.time\n",
    "    else:\n",
    "        print(\"Failed to solve\")\n",
    "        return None, None, None\n"
   ]
  },
  {
   "cell_type": "code",
   "execution_count": 54,
   "id": "a11a3f6e",
   "metadata": {},
   "outputs": [
    {
     "name": "stderr",
     "output_type": "stream",
     "text": [
      "(CVXPY) Jul 07 06:19:27 PM: Your problem has 443 variables, 441 constraints, and 0 parameters.\n",
      "(CVXPY) Jul 07 06:19:27 PM: It is compliant with the following grammars: DCP, DQCP\n",
      "(CVXPY) Jul 07 06:19:27 PM: (If you need to solve this problem multiple times, but with different data, consider using parameters.)\n",
      "(CVXPY) Jul 07 06:19:27 PM: CVXPY will first compile your problem; then, it will invoke a numerical solver to obtain a solution.\n",
      "(CVXPY) Jul 07 06:19:27 PM: Your problem is compiled with the CPP canonicalization backend.\n"
     ]
    },
    {
     "name": "stdout",
     "output_type": "stream",
     "text": [
      "===============================================================================\n",
      "                                     CVXPY                                     \n",
      "                                     v1.6.6                                    \n",
      "===============================================================================\n"
     ]
    },
    {
     "ename": "SolverError",
     "evalue": "Either candidate conic solvers (['GUROBI']) do not support the cones output by the problem (Zero, PSD), or there are not enough constraints in the problem.",
     "output_type": "error",
     "traceback": [
      "\u001b[0;31m---------------------------------------------------------------------------\u001b[0m",
      "\u001b[0;31mSolverError\u001b[0m                               Traceback (most recent call last)",
      "Cell \u001b[0;32mIn[54], line 2\u001b[0m\n\u001b[1;32m      1\u001b[0m M_g1, M_g2 \u001b[38;5;241m=\u001b[39m create_sdp_matrices(intercept, coefficients, p_bar, epsilon)\n\u001b[0;32m----> 2\u001b[0m mu_1, mu_2 , solve_time \u001b[38;5;241m=\u001b[39m \u001b[43msolve_sdp_via_cvxpy\u001b[49m\u001b[43m(\u001b[49m\u001b[43mM_g1\u001b[49m\u001b[43m,\u001b[49m\u001b[43m \u001b[49m\u001b[43mM_g2\u001b[49m\u001b[43m,\u001b[49m\u001b[43m \u001b[49m\u001b[43mnp\u001b[49m\u001b[38;5;241;43m.\u001b[39;49m\u001b[43meye\u001b[49m\u001b[43m(\u001b[49m\u001b[38;5;28;43mlen\u001b[39;49m\u001b[43m(\u001b[49m\u001b[43mp_bar\u001b[49m\u001b[43m)\u001b[49m\u001b[43m \u001b[49m\u001b[38;5;241;43m+\u001b[39;49m\u001b[43m \u001b[49m\u001b[38;5;241;43m1\u001b[39;49m\u001b[43m)\u001b[49m\u001b[43m)\u001b[49m\n",
      "Cell \u001b[0;32mIn[53], line 21\u001b[0m, in \u001b[0;36msolve_sdp_via_cvxpy\u001b[0;34m(M_g1, M_g2, M_I)\u001b[0m\n\u001b[1;32m     18\u001b[0m prob \u001b[38;5;241m=\u001b[39m cp\u001b[38;5;241m.\u001b[39mProblem(cp\u001b[38;5;241m.\u001b[39mMaximize(mu2), cons)\n\u001b[1;32m     20\u001b[0m \u001b[38;5;66;03m# Gurobi を内部 SDP ソルバーとして指定\u001b[39;00m\n\u001b[0;32m---> 21\u001b[0m \u001b[43mprob\u001b[49m\u001b[38;5;241;43m.\u001b[39;49m\u001b[43msolve\u001b[49m\u001b[43m(\u001b[49m\u001b[43msolver\u001b[49m\u001b[38;5;241;43m=\u001b[39;49m\u001b[43mcp\u001b[49m\u001b[38;5;241;43m.\u001b[39;49m\u001b[43mGUROBI\u001b[49m\u001b[43m,\u001b[49m\u001b[43m \u001b[49m\u001b[43mverbose\u001b[49m\u001b[38;5;241;43m=\u001b[39;49m\u001b[38;5;28;43;01mTrue\u001b[39;49;00m\u001b[43m)\u001b[49m\n\u001b[1;32m     23\u001b[0m \u001b[38;5;28;01mif\u001b[39;00m prob\u001b[38;5;241m.\u001b[39mstatus \u001b[38;5;241m==\u001b[39m cp\u001b[38;5;241m.\u001b[39mOPTIMAL:\n\u001b[1;32m     24\u001b[0m     \u001b[38;5;28mprint\u001b[39m(\u001b[38;5;124mf\u001b[39m\u001b[38;5;124m\"\u001b[39m\u001b[38;5;124mOptimal mu1 = \u001b[39m\u001b[38;5;132;01m{\u001b[39;00mmu1\u001b[38;5;241m.\u001b[39mvalue\u001b[38;5;132;01m:\u001b[39;00m\u001b[38;5;124m.4f\u001b[39m\u001b[38;5;132;01m}\u001b[39;00m\u001b[38;5;124m\"\u001b[39m)\n",
      "File \u001b[0;32m~/Pythonspace/price-optimize-SDP/.venv/lib/python3.10/site-packages/cvxpy/problems/problem.py:600\u001b[0m, in \u001b[0;36mProblem.solve\u001b[0;34m(self, *args, **kwargs)\u001b[0m\n\u001b[1;32m    597\u001b[0m         \u001b[38;5;28;01mraise\u001b[39;00m \u001b[38;5;167;01mValueError\u001b[39;00m(\n\u001b[1;32m    598\u001b[0m             \u001b[38;5;124m\"\u001b[39m\u001b[38;5;124mCannot specify both \u001b[39m\u001b[38;5;124m'\u001b[39m\u001b[38;5;124msolver\u001b[39m\u001b[38;5;124m'\u001b[39m\u001b[38;5;124m and \u001b[39m\u001b[38;5;124m'\u001b[39m\u001b[38;5;124msolver_path\u001b[39m\u001b[38;5;124m'\u001b[39m\u001b[38;5;124m. Please choose one.\u001b[39m\u001b[38;5;124m\"\u001b[39m)\n\u001b[1;32m    599\u001b[0m     \u001b[38;5;28;01mreturn\u001b[39;00m \u001b[38;5;28mself\u001b[39m\u001b[38;5;241m.\u001b[39m_solve_solver_path(solve_func,solver_path, args, kwargs)\n\u001b[0;32m--> 600\u001b[0m \u001b[38;5;28;01mreturn\u001b[39;00m \u001b[43msolve_func\u001b[49m\u001b[43m(\u001b[49m\u001b[38;5;28;43mself\u001b[39;49m\u001b[43m,\u001b[49m\u001b[43m \u001b[49m\u001b[38;5;241;43m*\u001b[39;49m\u001b[43margs\u001b[49m\u001b[43m,\u001b[49m\u001b[43m \u001b[49m\u001b[38;5;241;43m*\u001b[39;49m\u001b[38;5;241;43m*\u001b[39;49m\u001b[43mkwargs\u001b[49m\u001b[43m)\u001b[49m\n",
      "File \u001b[0;32m~/Pythonspace/price-optimize-SDP/.venv/lib/python3.10/site-packages/cvxpy/problems/problem.py:1176\u001b[0m, in \u001b[0;36mProblem._solve\u001b[0;34m(self, solver, warm_start, verbose, gp, qcp, requires_grad, enforce_dpp, ignore_dpp, canon_backend, **kwargs)\u001b[0m\n\u001b[1;32m   1173\u001b[0m         \u001b[38;5;28mself\u001b[39m\u001b[38;5;241m.\u001b[39munpack(chain\u001b[38;5;241m.\u001b[39mretrieve(soln))\n\u001b[1;32m   1174\u001b[0m         \u001b[38;5;28;01mreturn\u001b[39;00m \u001b[38;5;28mself\u001b[39m\u001b[38;5;241m.\u001b[39mvalue\n\u001b[0;32m-> 1176\u001b[0m data, solving_chain, inverse_data \u001b[38;5;241m=\u001b[39m \u001b[38;5;28;43mself\u001b[39;49m\u001b[38;5;241;43m.\u001b[39;49m\u001b[43mget_problem_data\u001b[49m\u001b[43m(\u001b[49m\n\u001b[1;32m   1177\u001b[0m \u001b[43m    \u001b[49m\u001b[43msolver\u001b[49m\u001b[43m,\u001b[49m\u001b[43m \u001b[49m\u001b[43mgp\u001b[49m\u001b[43m,\u001b[49m\u001b[43m \u001b[49m\u001b[43menforce_dpp\u001b[49m\u001b[43m,\u001b[49m\u001b[43m \u001b[49m\u001b[43mignore_dpp\u001b[49m\u001b[43m,\u001b[49m\u001b[43m \u001b[49m\u001b[43mverbose\u001b[49m\u001b[43m,\u001b[49m\u001b[43m \u001b[49m\u001b[43mcanon_backend\u001b[49m\u001b[43m,\u001b[49m\u001b[43m \u001b[49m\u001b[43mkwargs\u001b[49m\n\u001b[1;32m   1178\u001b[0m \u001b[43m\u001b[49m\u001b[43m)\u001b[49m\n\u001b[1;32m   1180\u001b[0m \u001b[38;5;28;01mif\u001b[39;00m verbose:\n\u001b[1;32m   1181\u001b[0m     \u001b[38;5;28mprint\u001b[39m(_NUM_SOLVER_STR)\n",
      "File \u001b[0;32m~/Pythonspace/price-optimize-SDP/.venv/lib/python3.10/site-packages/cvxpy/problems/problem.py:746\u001b[0m, in \u001b[0;36mProblem.get_problem_data\u001b[0;34m(self, solver, gp, enforce_dpp, ignore_dpp, verbose, canon_backend, solver_opts)\u001b[0m\n\u001b[1;32m    744\u001b[0m \u001b[38;5;28;01mif\u001b[39;00m key \u001b[38;5;241m!=\u001b[39m \u001b[38;5;28mself\u001b[39m\u001b[38;5;241m.\u001b[39m_cache\u001b[38;5;241m.\u001b[39mkey:\n\u001b[1;32m    745\u001b[0m     \u001b[38;5;28mself\u001b[39m\u001b[38;5;241m.\u001b[39m_cache\u001b[38;5;241m.\u001b[39minvalidate()\n\u001b[0;32m--> 746\u001b[0m     solving_chain \u001b[38;5;241m=\u001b[39m \u001b[38;5;28;43mself\u001b[39;49m\u001b[38;5;241;43m.\u001b[39;49m\u001b[43m_construct_chain\u001b[49m\u001b[43m(\u001b[49m\n\u001b[1;32m    747\u001b[0m \u001b[43m        \u001b[49m\u001b[43msolver\u001b[49m\u001b[38;5;241;43m=\u001b[39;49m\u001b[43msolver\u001b[49m\u001b[43m,\u001b[49m\u001b[43m \u001b[49m\u001b[43mgp\u001b[49m\u001b[38;5;241;43m=\u001b[39;49m\u001b[43mgp\u001b[49m\u001b[43m,\u001b[49m\n\u001b[1;32m    748\u001b[0m \u001b[43m        \u001b[49m\u001b[43menforce_dpp\u001b[49m\u001b[38;5;241;43m=\u001b[39;49m\u001b[43menforce_dpp\u001b[49m\u001b[43m,\u001b[49m\n\u001b[1;32m    749\u001b[0m \u001b[43m        \u001b[49m\u001b[43mignore_dpp\u001b[49m\u001b[38;5;241;43m=\u001b[39;49m\u001b[43mignore_dpp\u001b[49m\u001b[43m,\u001b[49m\n\u001b[1;32m    750\u001b[0m \u001b[43m        \u001b[49m\u001b[43mcanon_backend\u001b[49m\u001b[38;5;241;43m=\u001b[39;49m\u001b[43mcanon_backend\u001b[49m\u001b[43m,\u001b[49m\n\u001b[1;32m    751\u001b[0m \u001b[43m        \u001b[49m\u001b[43msolver_opts\u001b[49m\u001b[38;5;241;43m=\u001b[39;49m\u001b[43msolver_opts\u001b[49m\u001b[43m)\u001b[49m\n\u001b[1;32m    752\u001b[0m     \u001b[38;5;28mself\u001b[39m\u001b[38;5;241m.\u001b[39m_cache\u001b[38;5;241m.\u001b[39mkey \u001b[38;5;241m=\u001b[39m key\n\u001b[1;32m    753\u001b[0m     \u001b[38;5;28mself\u001b[39m\u001b[38;5;241m.\u001b[39m_cache\u001b[38;5;241m.\u001b[39msolving_chain \u001b[38;5;241m=\u001b[39m solving_chain\n",
      "File \u001b[0;32m~/Pythonspace/price-optimize-SDP/.venv/lib/python3.10/site-packages/cvxpy/problems/problem.py:1000\u001b[0m, in \u001b[0;36mProblem._construct_chain\u001b[0;34m(self, solver, gp, enforce_dpp, ignore_dpp, canon_backend, solver_opts)\u001b[0m\n\u001b[1;32m    998\u001b[0m candidate_solvers \u001b[38;5;241m=\u001b[39m \u001b[38;5;28mself\u001b[39m\u001b[38;5;241m.\u001b[39m_find_candidate_solvers(solver\u001b[38;5;241m=\u001b[39msolver, gp\u001b[38;5;241m=\u001b[39mgp)\n\u001b[1;32m    999\u001b[0m \u001b[38;5;28mself\u001b[39m\u001b[38;5;241m.\u001b[39m_sort_candidate_solvers(candidate_solvers)\n\u001b[0;32m-> 1000\u001b[0m \u001b[38;5;28;01mreturn\u001b[39;00m \u001b[43mconstruct_solving_chain\u001b[49m\u001b[43m(\u001b[49m\u001b[38;5;28;43mself\u001b[39;49m\u001b[43m,\u001b[49m\u001b[43m \u001b[49m\u001b[43mcandidate_solvers\u001b[49m\u001b[43m,\u001b[49m\u001b[43m \u001b[49m\u001b[43mgp\u001b[49m\u001b[38;5;241;43m=\u001b[39;49m\u001b[43mgp\u001b[49m\u001b[43m,\u001b[49m\n\u001b[1;32m   1001\u001b[0m \u001b[43m                               \u001b[49m\u001b[43menforce_dpp\u001b[49m\u001b[38;5;241;43m=\u001b[39;49m\u001b[43menforce_dpp\u001b[49m\u001b[43m,\u001b[49m\n\u001b[1;32m   1002\u001b[0m \u001b[43m                               \u001b[49m\u001b[43mignore_dpp\u001b[49m\u001b[38;5;241;43m=\u001b[39;49m\u001b[43mignore_dpp\u001b[49m\u001b[43m,\u001b[49m\n\u001b[1;32m   1003\u001b[0m \u001b[43m                               \u001b[49m\u001b[43mcanon_backend\u001b[49m\u001b[38;5;241;43m=\u001b[39;49m\u001b[43mcanon_backend\u001b[49m\u001b[43m,\u001b[49m\n\u001b[1;32m   1004\u001b[0m \u001b[43m                               \u001b[49m\u001b[43msolver_opts\u001b[49m\u001b[38;5;241;43m=\u001b[39;49m\u001b[43msolver_opts\u001b[49m\u001b[43m,\u001b[49m\n\u001b[1;32m   1005\u001b[0m \u001b[43m                               \u001b[49m\u001b[43mspecified_solver\u001b[49m\u001b[38;5;241;43m=\u001b[39;49m\u001b[43msolver\u001b[49m\u001b[43m)\u001b[49m\n",
      "File \u001b[0;32m~/Pythonspace/price-optimize-SDP/.venv/lib/python3.10/site-packages/cvxpy/reductions/solvers/solving_chain.py:373\u001b[0m, in \u001b[0;36mconstruct_solving_chain\u001b[0;34m(problem, candidates, gp, enforce_dpp, ignore_dpp, canon_backend, solver_opts, specified_solver)\u001b[0m\n\u001b[1;32m    366\u001b[0m             reductions \u001b[38;5;241m+\u001b[39m\u001b[38;5;241m=\u001b[39m [\n\u001b[1;32m    367\u001b[0m                 SOC2PSD(),\n\u001b[1;32m    368\u001b[0m                 ConeMatrixStuffing(quad_obj\u001b[38;5;241m=\u001b[39mquad_obj, canon_backend\u001b[38;5;241m=\u001b[39mcanon_backend),\n\u001b[1;32m    369\u001b[0m                 solver_instance\n\u001b[1;32m    370\u001b[0m             ]\n\u001b[1;32m    371\u001b[0m             \u001b[38;5;28;01mreturn\u001b[39;00m SolvingChain(reductions\u001b[38;5;241m=\u001b[39mreductions)\n\u001b[0;32m--> 373\u001b[0m \u001b[38;5;28;01mraise\u001b[39;00m SolverError(\u001b[38;5;124m\"\u001b[39m\u001b[38;5;124mEither candidate conic solvers (\u001b[39m\u001b[38;5;132;01m%s\u001b[39;00m\u001b[38;5;124m) do not support the \u001b[39m\u001b[38;5;124m\"\u001b[39m\n\u001b[1;32m    374\u001b[0m                   \u001b[38;5;124m\"\u001b[39m\u001b[38;5;124mcones output by the problem (\u001b[39m\u001b[38;5;132;01m%s\u001b[39;00m\u001b[38;5;124m), or there are not \u001b[39m\u001b[38;5;124m\"\u001b[39m\n\u001b[1;32m    375\u001b[0m                   \u001b[38;5;124m\"\u001b[39m\u001b[38;5;124menough constraints in the problem.\u001b[39m\u001b[38;5;124m\"\u001b[39m \u001b[38;5;241m%\u001b[39m (\n\u001b[1;32m    376\u001b[0m                       candidates[\u001b[38;5;124m'\u001b[39m\u001b[38;5;124mconic_solvers\u001b[39m\u001b[38;5;124m'\u001b[39m],\n\u001b[1;32m    377\u001b[0m                       \u001b[38;5;124m\"\u001b[39m\u001b[38;5;124m, \u001b[39m\u001b[38;5;124m\"\u001b[39m\u001b[38;5;241m.\u001b[39mjoin([cone\u001b[38;5;241m.\u001b[39m\u001b[38;5;18m__name__\u001b[39m \u001b[38;5;28;01mfor\u001b[39;00m cone \u001b[38;5;129;01min\u001b[39;00m cones])))\n",
      "\u001b[0;31mSolverError\u001b[0m: Either candidate conic solvers (['GUROBI']) do not support the cones output by the problem (Zero, PSD), or there are not enough constraints in the problem."
     ]
    }
   ],
   "source": [
    "M_g1, M_g2 = create_sdp_matrices(intercept, coefficients, p_bar, epsilon)\n",
    "mu_1, mu_2 , solve_time = solve_sdp_via_cvxpy(M_g1, M_g2, np.eye(len(p_bar) + 1))"
   ]
  },
  {
   "cell_type": "code",
   "execution_count": null,
   "id": "ca80a634",
   "metadata": {},
   "outputs": [],
   "source": []
  }
 ],
 "metadata": {
  "kernelspec": {
   "display_name": ".venv",
   "language": "python",
   "name": "python3"
  },
  "language_info": {
   "codemirror_mode": {
    "name": "ipython",
    "version": 3
   },
   "file_extension": ".py",
   "mimetype": "text/x-python",
   "name": "python",
   "nbconvert_exporter": "python",
   "pygments_lexer": "ipython3",
   "version": "3.10.13"
  }
 },
 "nbformat": 4,
 "nbformat_minor": 5
}
